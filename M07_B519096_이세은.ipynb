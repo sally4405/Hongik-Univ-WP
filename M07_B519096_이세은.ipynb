{
 "cells": [
  {
   "cell_type": "code",
   "execution_count": 8,
   "metadata": {},
   "outputs": [],
   "source": [
    "##### Lab-07-01 : Exercise 7-1 수행\n",
    "##\n",
    "import numpy as np\n",
    "\n",
    "arr1 = np.array([10, 20, 30, 40])\n",
    "arr2 = np.array([1, 2, 3, 4])"
   ]
  },
  {
   "cell_type": "code",
   "execution_count": 9,
   "metadata": {},
   "outputs": [
    {
     "data": {
      "text/plain": [
       "array([11, 22, 33, 44])"
      ]
     },
     "execution_count": 9,
     "metadata": {},
     "output_type": "execute_result"
    }
   ],
   "source": [
    "arr1 + arr2"
   ]
  },
  {
   "cell_type": "code",
   "execution_count": 10,
   "metadata": {},
   "outputs": [
    {
     "data": {
      "text/plain": [
       "array([ 9, 18, 27, 36])"
      ]
     },
     "execution_count": 10,
     "metadata": {},
     "output_type": "execute_result"
    }
   ],
   "source": [
    "arr1 - arr2"
   ]
  },
  {
   "cell_type": "code",
   "execution_count": 11,
   "metadata": {},
   "outputs": [
    {
     "data": {
      "text/plain": [
       "array([ 10,  40,  90, 160])"
      ]
     },
     "execution_count": 11,
     "metadata": {},
     "output_type": "execute_result"
    }
   ],
   "source": [
    "arr1 * arr2"
   ]
  },
  {
   "cell_type": "code",
   "execution_count": 12,
   "metadata": {},
   "outputs": [
    {
     "data": {
      "text/plain": [
       "array([10., 10., 10., 10.])"
      ]
     },
     "execution_count": 12,
     "metadata": {},
     "output_type": "execute_result"
    }
   ],
   "source": [
    "arr1 / arr2"
   ]
  },
  {
   "cell_type": "code",
   "execution_count": 13,
   "metadata": {},
   "outputs": [
    {
     "data": {
      "text/plain": [
       "array([2, 4, 6, 8])"
      ]
     },
     "execution_count": 13,
     "metadata": {},
     "output_type": "execute_result"
    }
   ],
   "source": [
    "arr2 *2"
   ]
  },
  {
   "cell_type": "code",
   "execution_count": 14,
   "metadata": {},
   "outputs": [
    {
     "data": {
      "text/plain": [
       "array([ 1,  4,  9, 16], dtype=int32)"
      ]
     },
     "execution_count": 14,
     "metadata": {},
     "output_type": "execute_result"
    }
   ],
   "source": [
    "arr2 **2"
   ]
  },
  {
   "cell_type": "code",
   "execution_count": 15,
   "metadata": {},
   "outputs": [
    {
     "data": {
      "text/plain": [
       "array([1.        , 0.5       , 0.33333333, 0.25      ])"
      ]
     },
     "execution_count": 15,
     "metadata": {},
     "output_type": "execute_result"
    }
   ],
   "source": [
    "1 / arr2"
   ]
  },
  {
   "cell_type": "code",
   "execution_count": 16,
   "metadata": {},
   "outputs": [
    {
     "data": {
      "text/plain": [
       "array([False, False,  True,  True])"
      ]
     },
     "execution_count": 16,
     "metadata": {},
     "output_type": "execute_result"
    }
   ],
   "source": [
    "arr1 > 20"
   ]
  },
  {
   "cell_type": "code",
   "execution_count": 37,
   "metadata": {},
   "outputs": [
    {
     "name": "stdout",
     "output_type": "stream",
     "text": [
      "합: 362, 평균: 30.167, 최대값: 60, 최솟값: 14, 분산: 171.639 \n",
      "\n",
      "누적곱 :  [         26        1196       38272      612352    20819968  1249198080\n",
      " -1571684352 -1368915968 -1984954368   -69206016  2080374784 -1073741824]\n"
     ]
    }
   ],
   "source": [
    "##### Lab-07-02 : 행렬연산\n",
    "##\n",
    "import numpy as np\n",
    "\n",
    "# 배열 생성\n",
    "A = np.random.randint(0,10, size = (3,2))\n",
    "B = np.random.randint(0,10, size = (4,2))\n",
    "\n",
    "# 전치행렬 연산\n",
    "B = B.transpose()\n",
    "\n",
    "# 행렬곱 연산\n",
    "C = A.dot(B)\n",
    "\n",
    "# 출력\n",
    "print(\"합: %d, 평균: %1.3f, 최대값: %d, 최솟값: %d, 분산: %1.3f \\n\" % (C.sum(), C.mean(), C.max(), C.min(), C.var()))\n",
    "print('누적곱 : ', C.cumprod())\n"
   ]
  },
  {
   "cell_type": "code",
   "execution_count": 36,
   "metadata": {},
   "outputs": [
    {
     "name": "stdout",
     "output_type": "stream",
     "text": [
      "A = (2, 3)\n",
      "B = (2, 2, 3)\n",
      "C = (2, 3, 2)\n",
      "D = (3, 2, 2)\n",
      "E = (3, 4, 2, 2)\n",
      "\n",
      "slicedA = [5 6]\n",
      "slicedB = [7 8]\n",
      "slicedC = [[ 8]\n",
      " [10]\n",
      " [12]]\n",
      "slicedD = [[[ 9 10]]]\n",
      "slicedE = [[[11 12]]\n",
      "\n",
      " [[15 16]]]\n"
     ]
    }
   ],
   "source": [
    "##### Lab-07-02 : 배열생성연습\n",
    "##\n",
    "import numpy as np\n",
    "\n",
    "# 2x3 형상을 갖는 2차원 배열\n",
    "A = np.array([[1,2,3],[4,5,6]])\n",
    "\n",
    "# 2x2x3 형상을 갖는 3차원 배열\n",
    "B = np.array([[[1,2,3],[4,5,6]],[[7,8,9],[10,11,12]]])\n",
    "\n",
    "# 2x3x2 형상을 갖는 3차원 배열\n",
    "C = np.array([[[1,2],[3,4],[5,6]],[[7,8],[9,10],[11,12]]])\n",
    "\n",
    "# 3x2x2 형상을 갖는 3차원 배열\n",
    "D = np.array([[[1,2],[3,4]],[[5,6],[7,8]],[[9,10],[11,12]]])\n",
    "\n",
    "# 3x4x2x2 형상을 갖는 4차원 배열\n",
    "E = np.array([[[[1,2],[3,4]],[[5,6],[7,8]],[[9,10],[11,12]],[[13,14],[15,16]]],\n",
    "              [[[1,2],[3,4]],[[5,6],[7,8]],[[9,10],[11,12]],[[13,14],[15,16]]],\n",
    "              [[[1,2],[3,4]],[[5,6],[7,8]],[[9,10],[11,12]],[[13,14],[15,16]]]])\n",
    "\n",
    "# 배열의 차원 확인\n",
    "print(\"A =\", A.shape)\n",
    "print(\"B =\", B.shape)\n",
    "print(\"C =\", C.shape)\n",
    "print(\"D =\", D.shape)\n",
    "print(\"E =\", E.shape)   \n",
    "print()\n",
    "\n",
    "# slicing 한 배열 출력\n",
    "print(\"slicedA =\", A[1][1:])\n",
    "print(\"slicedB =\", B[1,0,:2])\n",
    "print(\"slicedC =\", C[1][0:,1:])\n",
    "print(\"slicedD =\", D[2:][0:,:1])\n",
    "print(\"slicedE =\", E[1,2:,1:])"
   ]
  },
  {
   "cell_type": "code",
   "execution_count": null,
   "metadata": {},
   "outputs": [],
   "source": []
  }
 ],
 "metadata": {
  "kernelspec": {
   "display_name": "Python 3",
   "language": "python",
   "name": "python3"
  },
  "language_info": {
   "codemirror_mode": {
    "name": "ipython",
    "version": 3
   },
   "file_extension": ".py",
   "mimetype": "text/x-python",
   "name": "python",
   "nbconvert_exporter": "python",
   "pygments_lexer": "ipython3",
   "version": "3.7.1"
  }
 },
 "nbformat": 4,
 "nbformat_minor": 2
}
