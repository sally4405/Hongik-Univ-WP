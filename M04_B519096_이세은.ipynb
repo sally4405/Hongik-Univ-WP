{
 "cells": [
  {
   "cell_type": "code",
   "execution_count": 25,
   "metadata": {},
   "outputs": [
    {
     "name": "stdout",
     "output_type": "stream",
     "text": [
      "몇 단을 출력할까요? : 3\n",
      "3 x 1 = 3\n",
      "3 x 2 = 6\n",
      "3 x 3 = 9\n",
      "3 x 4 = 12\n",
      "3 x 5 = 15\n",
      "3 x 6 = 18\n",
      "3 x 7 = 21\n",
      "3 x 8 = 24\n",
      "3 x 9 = 27\n",
      "계속하려면 Y를, 그만하려면 N을 입력해주세요.Y\n",
      "\n",
      "몇 단을 출력할까요? : 7\n",
      "7 x 1 = 7\n",
      "7 x 2 = 14\n",
      "7 x 3 = 21\n",
      "7 x 4 = 28\n",
      "7 x 5 = 35\n",
      "7 x 6 = 42\n",
      "7 x 7 = 49\n",
      "7 x 8 = 56\n",
      "7 x 9 = 63\n",
      "계속하려면 Y를, 그만하려면 N을 입력해주세요.Y\n",
      "\n",
      "몇 단을 출력할까요? : 9\n",
      "9 x 1 = 9\n",
      "9 x 2 = 18\n",
      "9 x 3 = 27\n",
      "9 x 4 = 36\n",
      "9 x 5 = 45\n",
      "9 x 6 = 54\n",
      "9 x 7 = 63\n",
      "9 x 8 = 72\n",
      "9 x 9 = 81\n",
      "계속하려면 Y를, 그만하려면 N을 입력해주세요.N\n",
      "\n"
     ]
    }
   ],
   "source": [
    "##### Lab-04-01: 구구단 출력하기\n",
    "###\n",
    "\n",
    "### 구구단 함수\n",
    "def gugudan(n):\n",
    "    for i in range(1,10):\n",
    "        print(\"{} x {} = {}\".format(n, i, n*i))\n",
    "\n",
    "### main\n",
    "while True:\n",
    "    while True:\n",
    "        ## 단수 입력받고 조건 판단\n",
    "        dan = float(input(\"몇 단을 출력할까요? : \")) \n",
    "        if ((1 <= dan <= 9) & (dan == int(dan))): \n",
    "            dan = int(dan)\n",
    "            break;  \n",
    "    \n",
    "    gugudan(dan)\n",
    "    \n",
    "    ## 계속할지 판단\n",
    "    more = input(\"계속하려면 Y를, 그만하려면 N을 입력해주세요.\")\n",
    "    print(\"\")\n",
    "    if (more == \"N\"):\n",
    "        break;"
   ]
  },
  {
   "cell_type": "code",
   "execution_count": 32,
   "metadata": {},
   "outputs": [
    {
     "name": "stdout",
     "output_type": "stream",
     "text": [
      "   / \\ \n",
      "  /   \\ \n",
      " /     \\\n",
      " -------\n",
      " |     | \n",
      " |     | \n",
      " |     |\n",
      " -------\n",
      "\n",
      "     * \n",
      " *\t* \n",
      "   *  *\n",
      "   / \\ \n",
      "  /   \\ \n",
      " /     \\\n",
      " -------\n",
      "   / \\ \n",
      "  /   \\ \n",
      " /     \\\n"
     ]
    }
   ],
   "source": [
    "##### Lab-04-02: Stick Figure Drawing\n",
    "###\n",
    "\n",
    "## Draw a circle\n",
    "def circle():\n",
    "    print(\"     * \\n *\\t* \\n   *  *\")\n",
    "\n",
    "# Draw a intersecting line\n",
    "def intersecting():\n",
    "    print(\"   / \\\\ \\n  /   \\\\ \\n /     \\\\\")\n",
    "\n",
    "# Draw a base line\n",
    "def base():\n",
    "    print(\" -------\")\n",
    "\n",
    "## Draw a triangle\n",
    "def triagle():\n",
    "    intersecting()\n",
    "    base()\n",
    "\n",
    "## Draw a parallel line\n",
    "def parallel():\n",
    "    print(\" |     | \\n |     | \\n |     |\")\n",
    "\n",
    "    \n",
    "## 도형 출력\n",
    "triagle()\n",
    "parallel()\n",
    "base()\n",
    "\n",
    "print(\"\")\n",
    "circle()\n",
    "triagle()\n",
    "intersecting()"
   ]
  }
 ],
 "metadata": {
  "kernelspec": {
   "display_name": "Python 3",
   "language": "python",
   "name": "python3"
  },
  "language_info": {
   "codemirror_mode": {
    "name": "ipython",
    "version": 3
   },
   "file_extension": ".py",
   "mimetype": "text/x-python",
   "name": "python",
   "nbconvert_exporter": "python",
   "pygments_lexer": "ipython3",
   "version": "3.7.0"
  }
 },
 "nbformat": 4,
 "nbformat_minor": 2
}
