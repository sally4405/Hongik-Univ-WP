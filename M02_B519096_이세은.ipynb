{
 "cells": [
  {
   "cell_type": "code",
   "execution_count": 4,
   "metadata": {
    "scrolled": false
   },
   "outputs": [
    {
     "name": "stdout",
     "output_type": "stream",
     "text": [
      "3 단\n",
      "3 x 1 = 3\n",
      "3 x 2 = 6\n",
      "3 x 3 = 9\n",
      "3 x 4 = 12\n",
      "3 x 5 = 15\n",
      "3 x 6 = 18\n",
      "3 x 7 = 21\n",
      "3 x 8 = 24\n",
      "3 x 9 = 27\n",
      "\n",
      "5 단\n",
      "5 x 1 = 5\n",
      "5 x 2 = 10\n",
      "5 x 3 = 15\n",
      "5 x 4 = 20\n",
      "5 x 5 = 25\n",
      "5 x 6 = 30\n",
      "5 x 7 = 35\n",
      "5 x 8 = 40\n",
      "5 x 9 = 45\n",
      "\n",
      "7 단\n",
      "7 x 1 = 7\n",
      "7 x 2 = 14\n",
      "7 x 3 = 21\n",
      "7 x 4 = 28\n",
      "7 x 5 = 35\n",
      "7 x 6 = 42\n",
      "7 x 7 = 49\n",
      "7 x 8 = 56\n",
      "7 x 9 = 63\n",
      "\n"
     ]
    }
   ],
   "source": [
    "## 구구단 3,5,7단 출력하기\n",
    "\n",
    "for i in range(3,8,2):\n",
    "    print(i,\"단\")\n",
    "    for j in range(1,10):\n",
    "        print(i, \"x\", j, \"=\", i*j)\n",
    "    print()"
   ]
  },
  {
   "cell_type": "code",
   "execution_count": null,
   "metadata": {},
   "outputs": [],
   "source": [
    "## 양의 정수의 factorial 값과 홀수의 합 구하기\n",
    "\n",
    "while True:\n",
    "    N = float(input(\"양의 정수를 입력해주세요 : \"))  #N의 값이 정수인지 실수인지 구분하기 위해서 float으로 받음\n",
    "    if ((N > 0) & (N == int(N))):  #N이 양수이면서 정수이면 while문을 나감\n",
    "        break\n",
    "\n",
    "N = int(N) #N의 자료형을 다시 int로 변환\n",
    "nResult = 1\n",
    "nSum = 0\n",
    "\n",
    "for nn in range(1, N+1):\n",
    "    nResult *= nn\n",
    "for ss in range(1, N+1, 2):\n",
    "    nSum += ss\n",
    "\n",
    "print(N, \"! = \", nResult)\n",
    "print(N, \"까지 홀수의 합 = \", nSum)"
   ]
  },
  {
   "cell_type": "code",
   "execution_count": 1,
   "metadata": {},
   "outputs": [
    {
     "name": "stdout",
     "output_type": "stream",
     "text": [
      "첫번째 정수를 입력해주세요 : 1\n",
      "두번째 정수를 입력해주세요 : 17\n",
      "[2, 3, 5, 7, 11, 13, 17]\n"
     ]
    }
   ],
   "source": [
    "## 두 정수를 입력 받아 사이에 있는 모든 소수를 출력하라!\n",
    "\n",
    "# 제곱근이 소수인지 비교\n",
    "# 계산양을 줄이기 위해 2와 3의 배수는 먼저 제외\n",
    "# 2와 3의 배수를 제외했기 때문에 나눠야하는 수는 5,7,11,13,17,19,23,25... 이다.\n",
    "\n",
    "nF = int(input(\"첫번째 정수를 입력해주세요 : \"))\n",
    "nS = int(input(\"두번째 정수를 입력해주세요 : \"))\n",
    "\n",
    "# n의 제곱근이 소수인지 판별하는 함수\n",
    "def is_prime(n: int) -> bool:\n",
    "    if n < 2:  \n",
    "        return False\n",
    "    if n in (2, 3):   # n이 2,3인 경우\n",
    "        return True \n",
    "    if n % 2 is 0 or n % 3 is 0:   # n이 2나 3의 배수인 경우\n",
    "        return False \n",
    "    if n < 9:      # k를 5에서 시작하여 6씩 증가시키기 때문에 10이하의 남은 소수인 5와 7은 따로 판별해주어야 함\n",
    "        return True\n",
    "    k = 5\n",
    "    l = n**0.5\n",
    "    while k <= l: \n",
    "        if n % k is 0 or n % (k+2) is 0: \n",
    "            return False \n",
    "        k += 6    # 짝수와 3의 배수는 먼저 제외했기 때문에 k를 6씩 증가시키고 k와 k+2로 나눔\n",
    "    return True\n",
    "\n",
    "# 첫번째 정수와 두번째 정수중 큰 수와 작은 수를 판별\n",
    "if nF > nS:\n",
    "    startNum  = nS\n",
    "    finalNum = nF\n",
    "else:\n",
    "    startNum  = nF\n",
    "    finalNum = nS\n",
    "\n",
    "nList = [nn for nn in range(startNum, finalNum+1) if is_prime(nn) == True]\n",
    "\n",
    "print(nList)"
   ]
  },
  {
   "cell_type": "code",
   "execution_count": null,
   "metadata": {},
   "outputs": [],
   "source": []
  }
 ],
 "metadata": {
  "kernelspec": {
   "display_name": "Python 3",
   "language": "python",
   "name": "python3"
  },
  "language_info": {
   "codemirror_mode": {
    "name": "ipython",
    "version": 3
   },
   "file_extension": ".py",
   "mimetype": "text/x-python",
   "name": "python",
   "nbconvert_exporter": "python",
   "pygments_lexer": "ipython3",
   "version": "3.7.0"
  }
 },
 "nbformat": 4,
 "nbformat_minor": 2
}
