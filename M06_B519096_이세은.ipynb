{
 "cells": [
  {
   "cell_type": "code",
   "execution_count": 26,
   "metadata": {},
   "outputs": [
    {
     "name": "stdout",
     "output_type": "stream",
     "text": [
      "No of word 'Yesterday' is  9\n"
     ]
    }
   ],
   "source": [
    "##### Lab-06-01 : 단어 숫자 세기\n",
    "###\n",
    "\n",
    "## count 'yesterday' in Yesterday_Lirics\n",
    "nCount = 0\n",
    "with open(\"yesterday_beatles.txt\") as myFile :\n",
    "    for line in myFile : \n",
    "        nCount += line.lower().count(\"yesterday\")\n",
    "print(\"No of word 'Yesterday' is \", nCount)\n",
    "\n",
    "\n",
    "\n"
   ]
  },
  {
   "cell_type": "code",
   "execution_count": 25,
   "metadata": {},
   "outputs": [
    {
     "name": "stdout",
     "output_type": "stream",
     "text": [
      "원하는 내용을 입력하세요! :                       Web Programing    2019    by  Prof.Jhee\n",
      "원하는 내용을 입력하세요! :                         Python Programing for Data Analytics\n",
      "원하는 내용을 입력하세요! : Python is an awesome programming language. It's simple and easy\n",
      "원하는 내용을 입력하세요! :     to learn. I can do it!!!\n",
      "원하는 내용을 입력하세요! :  파이썬은 Big Data/AI 시대의 필수적인 프로그래밍 언어로 자리 잡았으며\n",
      "원하는 내용을 입력하세요! : Goggle의 기본 개발언어로 사용되고 있습니다.\n",
      "원하는 내용을 입력하세요! : 여러분도 파이썬을 잘 익혀서 4차 산업혁명의 여군이 되기를 바랍니다.\n",
      "원하는 내용을 입력하세요! : 3.14  36  18.2  'data science'  256  '999'  55\n",
      "원하는 내용을 입력하세요! : -1\n",
      "입력 종료!\n",
      "\n",
      "                      Web Programing    2019    by  Prof.Jhee\n",
      "\n",
      "                        Python Programing for Data Analytics\n",
      "\n",
      "Python is an awesome programming language. It's simple and easy\n",
      "\n",
      "    to learn. I can do it!!!\n",
      "\n",
      " 파이썬은 Big Data/AI 시대의 필수적인 프로그래밍 언어로 자리 잡았으며\n",
      "\n",
      "Goggle의 기본 개발언어로 사용되고 있습니다.\n",
      "\n",
      "여러분도 파이썬을 잘 익혀서 4차 산업혁명의 여군이 되기를 바랍니다.\n",
      "\n",
      "3.14  36  18.2  'data science'  256  '999'  55\n",
      "\n",
      "\n",
      "['3.14', '36', '18.2', \"'data\", \"science'\", '256', \"'999'\", '55']\n",
      "[3.14, 36.0, 18.2, 256.0, 55.0]\n",
      "\n",
      "No of Number =  5 ,  Sum =  368.34000000000003\n"
     ]
    }
   ],
   "source": [
    "##### Lab-06-02 : File Write & Read\n",
    "###\n",
    "\n",
    "## Input to File\n",
    "with open(\"TestFile_01.txt\", 'w') as fw :\n",
    "    while True :\n",
    "        sText = input(\"원하는 내용을 입력하세요! : \")\n",
    "        if sText.startswith('-1'):\n",
    "            print(\"입력 종료!\\n\")\n",
    "            break;\n",
    "        # print(sText)\n",
    "        fw.write(sText + '\\n')\n",
    "\n",
    "## Read-in File & Print\n",
    "saveText = \" \"\n",
    "with open(\"TestFile_01.txt\") as fr:\n",
    "    while True :\n",
    "        sText = fr.readline()\n",
    "        print(sText)\n",
    "        if not sText : break\n",
    "        saveText = sText\n",
    "            \n",
    "# checking float\n",
    "def check_float(x) :\n",
    "    try :\n",
    "        float(x)\n",
    "        return True\n",
    "    except ValueError:\n",
    "        return False\n",
    "        \n",
    "## Process with last line\n",
    "# print(saveText)\n",
    "sList = saveText.strip().split()\n",
    "print(sList)\n",
    "dList = [float(item) for item in sList if check_float(item)]\n",
    "print(dList)\n",
    "print(\"\\nNo of Number = \", len(dList), \",  Sum = \", sum(dList))\n",
    "            \n",
    "## Read-in File & Write\n",
    "with open(\"TestFile_01.txt\") as ffr :\n",
    "    with open(\"TestFile_02.txt\", 'w') as ffw : \n",
    "        while True :\n",
    "            s = ffr.readline().strip()\n",
    "           # print(s)\n",
    "            ffw.write(s + '\\n' + s.upper() + '\\n' + s.replace(' ', '-') + '\\n\\n')\n",
    "            if not s : break\n"
   ]
  }
 ],
 "metadata": {
  "kernelspec": {
   "display_name": "Python 3",
   "language": "python",
   "name": "python3"
  },
  "language_info": {
   "codemirror_mode": {
    "name": "ipython",
    "version": 3
   },
   "file_extension": ".py",
   "mimetype": "text/x-python",
   "name": "python",
   "nbconvert_exporter": "python",
   "pygments_lexer": "ipython3",
   "version": "3.7.0"
  }
 },
 "nbformat": 4,
 "nbformat_minor": 2
}
