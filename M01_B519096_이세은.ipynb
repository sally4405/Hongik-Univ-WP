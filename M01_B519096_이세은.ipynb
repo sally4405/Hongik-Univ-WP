{
 "cells": [
  {
   "cell_type": "code",
   "execution_count": 3,
   "metadata": {},
   "outputs": [
    {
     "name": "stdout",
     "output_type": "stream",
     "text": [
      "5 7 3.1415 Hong Ik Univ.\n",
      "5 5\n",
      "10 15.707500000000001 3.1415 Hong Ik Univ.\n",
      "몫 : 3 , 나머지 : 1\n",
      "31415000000.0\n",
      "True\n",
      "Hong Ik Univ.Industrial Eng.\n",
      "Hong Ik Univ.Industrial Eng.Hong Ik Univ.Industrial Eng.Hong Ik Univ.Industrial Eng.\n"
     ]
    }
   ],
   "source": [
    "##변수 생성\n",
    "nX = 5\n",
    "nY = 7\n",
    "dZ = 3.1415\n",
    "sW = \"Hong Ik Univ.\"\n",
    "print(nX, nY, dZ, sW)\n",
    "\n",
    "nY = nX\n",
    "print(nX,nY)\n",
    "\n",
    "nX = nX *2\n",
    "nY = nY *dZ\n",
    "print(nX, nY, dZ, sW)\n",
    "\n",
    "nX1 = nX//3\n",
    "nX2 = nX%3\n",
    "print(\"몫 :\",nX1, \", 나머지 :\",nX2)\n",
    "\n",
    "print(dZ * 10000000000)\n",
    "\n",
    "print(nX < nY >= dZ) #논리 비교 연산\n",
    "\n",
    "sW = sW + \"Industrial Eng.\"\n",
    "print(sW)\n",
    "\n",
    "print(int(nX/3) * sW) #문자열에 실수를 곱할 수 없기 때문에 type() 함수를 사용하여 정수로 형 변환해줌 "
   ]
  },
  {
   "cell_type": "code",
   "execution_count": 21,
   "metadata": {},
   "outputs": [
    {
     "name": "stdout",
     "output_type": "stream",
     "text": [
      "원의 반지름을 입력하세요! 3\n",
      "Radius = 3.0\n",
      "\n",
      "원의 둘레 =  18.849114\n",
      "원의 면적 =  28.273671\n",
      "\n",
      "\n",
      "사각형의 가로의 길이을 입력하세요! 4\n",
      "사각형의 세로의 길이을 입력하세요! 1.5\n",
      "가로 = 4.0 세로 = 1.5\n",
      "\n",
      "사각형의 면적 = 6.0\n",
      "\n",
      "\n",
      "삼각형의 높이을 입력하세요! 4\n",
      "삼각형의 밑변을 입력하세요! 5\n",
      "높이 = 4.0 밑변 = 5.0\n",
      "\n",
      "삼각형의 면적 = 10.0\n"
     ]
    }
   ],
   "source": [
    "#도형의 둘레와 면적 구하기\n",
    "# 원 둘레와 면적\n",
    "MYPI = 3.141519\n",
    "dRadius = float(input(\"원의 반지름을 입력하세요! \")) //type()함수를 사용하지 않으면 string 형으로 나옴\n",
    "print(\"Radius =\", dRadius)\n",
    "print(\"\")\n",
    "print(\"원의 둘레 = \", 2 * MYPI * dRadius)\n",
    "print(\"원의 면적 = \", MYPI * dRadius * dRadius)\n",
    "print(\"\");print(\"\")\n",
    "\n",
    "# 사각형의 면적\n",
    "dLength1 = float(input(\"사각형의 가로의 길이을 입력하세요! \"))\n",
    "dLength2 = float(input(\"사각형의 세로의 길이을 입력하세요! \"))\n",
    "print(\"가로 =\", dLength1, \"세로 =\", dLength2)\n",
    "print(\"\")\n",
    "print(\"사각형의 면적 =\", dLength1 * dLength2)\n",
    "print(\"\");print(\"\")\n",
    "\n",
    "# 삼각형의 면적\n",
    "dHeight = float(input(\"삼각형의 높이을 입력하세요! \"))\n",
    "dWidth = float(input(\"삼각형의 밑변을 입력하세요! \"))\n",
    "print(\"높이 =\", dHeight, \"밑변 =\", dWidth)\n",
    "print(\"\")\n",
    "print(\"삼각형의 면적 =\", dHeight * dWidth / 2)\n"
   ]
  },
  {
   "cell_type": "code",
   "execution_count": 24,
   "metadata": {},
   "outputs": [
    {
     "name": "stdout",
     "output_type": "stream",
     "text": [
      "Enter a whole Number between 1 and 99!\n",
      " I'll find a combination of coins\n",
      " that equals that amount of change\n",
      " Your Amount = 38\n",
      " Your input is 38\n",
      "\n",
      "38  cents in coins can be given as:\n",
      "   1 quarters\n",
      "   1 dimes\n",
      "   0 nickles\n",
      "   3 pennies\n"
     ]
    }
   ],
   "source": [
    "#### Vending Machine Change Maker #######\n",
    "## Find coins of 4 kinds\n",
    "## Input amount\n",
    "print(\"Enter a whole Number between 1 and 99!\")\n",
    "print(\" I'll find a combination of coins\")\n",
    "print(\" that equals that amount of change\")\n",
    "nAmount = int(input(\" Your Amount = \"))        #정수로 형변환\n",
    "print(\" Your input is\", nAmount); print(\"\")\n",
    "\n",
    "## Calculate Changes\n",
    "nSaveAmount = nAmount #nAmount값이 계속 바뀔 것이기 때문에 처음값을 따로 저장해둠\n",
    "nQtr = nAmount // 25\n",
    "nAmount = nAmount % 25\n",
    "nDime = nAmount // 10\n",
    "nAmount = nAmount % 10\n",
    "nNickle = nAmount // 5\n",
    "nAmount = nAmount % 5\n",
    "nPenny = nAmount\n",
    "\n",
    "## Output no. of coins\n",
    "print(nSaveAmount, \" cents in coins can be given as:\")\n",
    "print(\"  \", nQtr, \"quarters\")\n",
    "print(\"  \", nDime, \"dimes\")\n",
    "print(\"  \", nNickle, \"nickles\")\n",
    "print(\"  \", nPenny, \"pennies\")\n"
   ]
  }
 ],
 "metadata": {
  "kernelspec": {
   "display_name": "Python 3",
   "language": "python",
   "name": "python3"
  },
  "language_info": {
   "codemirror_mode": {
    "name": "ipython",
    "version": 3
   },
   "file_extension": ".py",
   "mimetype": "text/x-python",
   "name": "python",
   "nbconvert_exporter": "python",
   "pygments_lexer": "ipython3",
   "version": "3.7.0"
  }
 },
 "nbformat": 4,
 "nbformat_minor": 2
}
